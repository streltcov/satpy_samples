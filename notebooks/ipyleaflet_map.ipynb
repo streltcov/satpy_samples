{
 "cells": [
  {
   "cell_type": "code",
   "execution_count": 1,
   "id": "a0644e39-baad-4d27-b3d9-987762e2758c",
   "metadata": {},
   "outputs": [],
   "source": [
    "from ipyleaflet import (\n",
    "    Map, basemaps, WidgetControl, LayersControl, LayerGroup, Icon, Marker, basemap_to_tiles,\n",
    "    ImageOverlay, MeasureControl, ScaleControl, SearchControl, FullScreenControl, projections\n",
    ")\n",
    "\n",
    "from base64 import b64encode\n",
    "from io import BytesIO\n",
    "from ipywidgets import Layout\n",
    "from PIL import Image\n",
    "\n",
    "import os"
   ]
  },
  {
   "cell_type": "code",
   "execution_count": 2,
   "id": "029e85c3-7995-4d6a-9fc1-10aeb9c606c6",
   "metadata": {},
   "outputs": [],
   "source": [
    "def get_layer_image(image_path):\n",
    "    \"\"\" Return base64 representation of image file;\n",
    "    \n",
    "    :param image_path: local path to image;\n",
    "    :type: str\n",
    "    \n",
    "    \"\"\"\n",
    "    \n",
    "    image, file = Image.open(image_path), BytesIO()\n",
    "    image.save(file, format='png')\n",
    "    \n",
    "    data = b64encode(file.getvalue()).decode('ascii')\n",
    "    return 'data:image/{};base64,'.format('png') + data\n",
    "    "
   ]
  },
  {
   "cell_type": "code",
   "execution_count": 3,
   "id": "b53b6e0f-632c-4743-af0a-f7d2a5b34f7f",
   "metadata": {},
   "outputs": [],
   "source": [
    "m = Map(\n",
    "    basemap=basemap_to_tiles(basemaps.Esri.WorldTopoMap, center=(0.0, 0.0), zoom=3),\n",
    "    center=(0.0, 0,0),\n",
    "    crs=projections.EPSG3857,\n",
    "    layout=Layout(width='100%', height='750px'),\n",
    "    scroll_wheel_zoom=True, min_zoom=3, zoom=3\n",
    ")"
   ]
  },
  {
   "cell_type": "code",
   "execution_count": 4,
   "id": "76d8635e-00dc-4b54-84f8-9605e49358df",
   "metadata": {},
   "outputs": [],
   "source": [
    "# adding map controls;\n",
    "m.add_control(FullScreenControl(options=['position'], position='topleft'))\n",
    "m.add_control(LayersControl(position='topright', collapsed=False, options=['position', 'collapsed']))\n",
    "m.add_control(ScaleControl(position='bottomleft'))\n",
    "m.add_control(MeasureControl(position='bottomleft', active_color = 'lightgreen', primary_length_unit = 'kilometers'))"
   ]
  },
  {
   "cell_type": "code",
   "execution_count": 5,
   "id": "9ec8a7d9-3481-45d1-b47d-f64ccc972f60",
   "metadata": {},
   "outputs": [],
   "source": [
    "# image layers descriptions;\n",
    "image_path_base = str(os.path.join(os.getcwd(), '..', 'images', 'resampled', 'meteosat10', 'scene_1'))\n",
    "\n",
    "msg3_layer_files = {'MSG3 - Colorized clouds (12-01-2016)': 'colorized_clouds.tiff', 'MSG3 - Infrared 10.8': 'ir108.png'}"
   ]
  },
  {
   "cell_type": "code",
   "execution_count": 6,
   "id": "7dbc8aa7-c53a-4f94-8c96-74a27fbacee2",
   "metadata": {},
   "outputs": [],
   "source": [
    "# adding image layers;\n",
    "\n",
    "# MSG-3 layers;\n",
    "for name, file in msg3_layer_files.items():\n",
    "    url = get_layer_image(os.path.join(image_path_base, file))\n",
    "    layer = ImageOverlay(\n",
    "        url=url,\n",
    "        name=name,\n",
    "        opacity=0.7,\n",
    "        bounds=((-80, -140.5), (80, 140.5))\n",
    "    )\n",
    "    m.add_layer(layer)\n"
   ]
  },
  {
   "cell_type": "code",
   "execution_count": 7,
   "id": "e534f170-6c49-4dc7-b0f3-26e75af1d345",
   "metadata": {},
   "outputs": [
    {
     "data": {
      "application/vnd.jupyter.widget-view+json": {
       "model_id": "6f9039ab0bea476094dfddeeb54a6e98",
       "version_major": 2,
       "version_minor": 0
      },
      "text/plain": [
       "Map(center=[0.0, 0, 0], controls=(ZoomControl(options=['position', 'zoom_in_text', 'zoom_in_title', 'zoom_out_…"
      ]
     },
     "metadata": {},
     "output_type": "display_data"
    }
   ],
   "source": [
    "m"
   ]
  },
  {
   "cell_type": "code",
   "execution_count": null,
   "id": "53ac59d9-290e-4f01-8a47-6627684ca751",
   "metadata": {},
   "outputs": [],
   "source": []
  }
 ],
 "metadata": {
  "kernelspec": {
   "display_name": "Python 3 (ipykernel)",
   "language": "python",
   "name": "python3"
  },
  "language_info": {
   "codemirror_mode": {
    "name": "ipython",
    "version": 3
   },
   "file_extension": ".py",
   "mimetype": "text/x-python",
   "name": "python",
   "nbconvert_exporter": "python",
   "pygments_lexer": "ipython3",
   "version": "3.7.11"
  }
 },
 "nbformat": 4,
 "nbformat_minor": 5
}
