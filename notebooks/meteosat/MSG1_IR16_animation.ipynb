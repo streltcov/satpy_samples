{
 "cells": [
  {
   "cell_type": "code",
   "execution_count": 1,
   "id": "66acb273-d885-42e0-8556-920aa87c4ffa",
   "metadata": {},
   "outputs": [],
   "source": [
    "import glob\n",
    "import os\n",
    "from satpy import MultiScene\n",
    "from satpy.scene import Scene\n",
    "import warnings"
   ]
  },
  {
   "cell_type": "code",
   "execution_count": 2,
   "id": "54e57acd-340b-4816-92bc-9331f6edd0c0",
   "metadata": {},
   "outputs": [],
   "source": [
    "warnings.filterwarnings('ignore')"
   ]
  },
  {
   "cell_type": "code",
   "execution_count": 3,
   "id": "f793552e-25e0-4e15-9be3-34d37f6cad08",
   "metadata": {},
   "outputs": [],
   "source": [
    "# compiled xRITDecompress util from EUMETSAT must be available and environment variable XRIT_DECOMPRESS_PATH must be set;\n",
    "# PublicDecompWT software by EUMETSAT: https://gitlab.eumetsat.int/open-source/PublicDecompWT\n",
    "\n",
    "if not os.environ.get('XRIT_DECOMPRESS_PATH', None):\n",
    "    # set path to compiled xRITDecompress;\n",
    "    xrit_decompress = os.path.join(os.getcwd(), '..', '..', 'xRITDecompress')\n",
    "    assert os.path.exists(xrit_decompress)\n",
    "    os.environ['XRIT_DECOMPRESS_PATH'] = xrit_decompress"
   ]
  },
  {
   "cell_type": "code",
   "execution_count": 4,
   "id": "d4e886e4-afc5-422a-8832-6bc43f92c2e0",
   "metadata": {},
   "outputs": [],
   "source": [
    "base_folder = os.path.join(os.getcwd(), '..', '..', 'sample_data', 'msg', 'meteosat8', 'scene_1')\n",
    "resampled_images_folder = os.path.join(os.getcwd(), '..', '..', 'images', 'resampled', 'meteosat10', 'scene_1')"
   ]
  },
  {
   "cell_type": "code",
   "execution_count": 5,
   "id": "fa5ebd92-2f9d-4cae-a7e2-55dfbb8b40d8",
   "metadata": {},
   "outputs": [],
   "source": [
    "data_folders, scenes = ['MSG1-20170201-1200', 'MSG1-20170201-1215', 'MSG1-20170201-1230', 'MSG1-20170201-1245',\n",
    "               'MSG1-20170201-1300', 'MSG1-20170201-1315', 'MSG1-20170201-1330', 'MSG1-20170201-1345'], []"
   ]
  },
  {
   "cell_type": "code",
   "execution_count": 6,
   "id": "7fe1be3a-84ce-4cec-8e5f-30a180fcb412",
   "metadata": {},
   "outputs": [
    {
     "data": {
      "text/plain": [
       "8"
      ]
     },
     "execution_count": 6,
     "metadata": {},
     "output_type": "execute_result"
    }
   ],
   "source": [
    "for folder in data_folders:\n",
    "    path = os.path.join(base_folder, folder, '*')\n",
    "    filenames = glob.glob(path)\n",
    "    scene = Scene(reader='seviri_l1b_hrit', filenames=filenames)\n",
    "    scenes.append(scene)\n",
    "    del scene, path, filenames\n",
    "\n",
    "len(scenes)"
   ]
  },
  {
   "cell_type": "code",
   "execution_count": 7,
   "id": "3ccaf6e1-5715-4a95-97cf-63a93c22b912",
   "metadata": {},
   "outputs": [],
   "source": [
    "multiscene = MultiScene(scenes)"
   ]
  },
  {
   "cell_type": "code",
   "execution_count": 8,
   "id": "dacd65b7-b29a-453f-8014-b7ec533a6e43",
   "metadata": {},
   "outputs": [],
   "source": [
    "# checking all scene objects to have the same area coverage;\n",
    "assert multiscene.all_same_area"
   ]
  },
  {
   "cell_type": "code",
   "execution_count": 9,
   "id": "83b9f2ce-3003-4598-9ba4-89a780909cd0",
   "metadata": {},
   "outputs": [],
   "source": [
    "multiscene.load(['IR_016'])"
   ]
  },
  {
   "cell_type": "code",
   "execution_count": 11,
   "id": "c4ac57cb-7ddd-4f17-87ed-97265426c89e",
   "metadata": {},
   "outputs": [
    {
     "name": "stderr",
     "output_type": "stream",
     "text": [
      "[rawvideo @ 0x7fb486808e00] Stream #0: not enough frames to estimate rate; consider increasing probesize\n"
     ]
    }
   ],
   "source": [
    "multiscene.save_animation('{name}_{start_time:%Y%m%d_%H%M%S}.mp4', fps=2)"
   ]
  },
  {
   "cell_type": "code",
   "execution_count": null,
   "id": "10adeea1-1ec8-4782-9266-bdee96643372",
   "metadata": {},
   "outputs": [],
   "source": []
  }
 ],
 "metadata": {
  "kernelspec": {
   "display_name": "Python 3 (ipykernel)",
   "language": "python",
   "name": "python3"
  },
  "language_info": {
   "codemirror_mode": {
    "name": "ipython",
    "version": 3
   },
   "file_extension": ".py",
   "mimetype": "text/x-python",
   "name": "python",
   "nbconvert_exporter": "python",
   "pygments_lexer": "ipython3",
   "version": "3.7.11"
  }
 },
 "nbformat": 4,
 "nbformat_minor": 5
}
