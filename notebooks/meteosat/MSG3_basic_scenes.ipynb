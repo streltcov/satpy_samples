{
 "cells": [
  {
   "cell_type": "code",
   "execution_count": 1,
   "metadata": {
    "collapsed": true
   },
   "outputs": [],
   "source": [
    "import glob\n",
    "import os\n",
    "from satpy.scene import Scene\n",
    "import warnings"
   ]
  },
  {
   "cell_type": "code",
   "execution_count": 2,
   "outputs": [],
   "source": [
    "warnings.filterwarnings('ignore')"
   ],
   "metadata": {
    "collapsed": false,
    "pycharm": {
     "name": "#%%\n"
    }
   }
  },
  {
   "cell_type": "code",
   "execution_count": 8,
   "outputs": [],
   "source": [
    "data_folder = os.path.join(os.getcwd(), '..', '..', 'sample_data', 'msg', 'meteosat10', 'scene_1')\n",
    "images_folder = os.path.join(os.getcwd(), '..', '..', 'images', 'msg', 'meteosat10', 'scene_1')\n",
    "colorized_clouds = os.path.join(images_folder, 'colorized_clouds')\n",
    "ir108 = os.path.join(images_folder, 'ir108')\n",
    "ir_clouds = os.path.join(images_folder, 'ir_clouds')\n",
    "filenames = glob.glob(data_folder + '/*')"
   ],
   "metadata": {
    "collapsed": false,
    "pycharm": {
     "name": "#%%\n"
    }
   }
  },
  {
   "cell_type": "code",
   "execution_count": 4,
   "outputs": [],
   "source": [
    "# compiled xRITDecompress util from EUMETSAT must be available and environment variable XRIT_DECOMPRESS_PATH must be set;\n",
    "# PublicDecompWT software by EUMETSAT: https://gitlab.eumetsat.int/open-source/PublicDecompWT\n",
    "\n",
    "# if not os.environ.get('XRIT_DECOMPRESS_PATH', None):\n",
    "#     # set path to compiled xRITDecompress;\n",
    "#     xrit_decompress = os.path.join(os.getcwd(), '..', '..', 'xRITDecompress')\n",
    "#     assert os.path.exists(xrit_decompress)\n",
    "#     os.environ['XRIT_DECOMPRESS_PATH'] = xrit_decompress"
   ],
   "metadata": {
    "collapsed": false,
    "pycharm": {
     "name": "#%%\n"
    }
   }
  },
  {
   "cell_type": "code",
   "execution_count": 5,
   "outputs": [
    {
     "data": {
      "text/plain": "['colorized_ir_clouds', 'ir108_3d', 'ir_cloud_day']"
     },
     "execution_count": 5,
     "metadata": {},
     "output_type": "execute_result"
    }
   ],
   "source": [
    "scene = Scene(reader='seviri_l1b_hrit', filenames=filenames)\n",
    "scene.available_composite_names()"
   ],
   "metadata": {
    "collapsed": false,
    "pycharm": {
     "name": "#%%\n"
    }
   }
  },
  {
   "cell_type": "code",
   "execution_count": 6,
   "outputs": [],
   "source": [
    "composites = scene.available_composite_names()\n",
    "scene.load(composites)"
   ],
   "metadata": {
    "collapsed": false,
    "pycharm": {
     "name": "#%%\n"
    }
   }
  },
  {
   "cell_type": "code",
   "execution_count": 12,
   "outputs": [
    {
     "name": "stderr",
     "output_type": "stream",
     "text": [
      "ERROR 1: PROJ: proj_create_from_name: /Users/streltcov/opt/anaconda3/envs/satpy_samples/share/proj/proj.db lacks DATABASE.LAYOUT.VERSION.MAJOR / DATABASE.LAYOUT.VERSION.MINOR metadata. It comes from another PROJ installation.\n"
     ]
    }
   ],
   "source": [
    "scene.save_dataset(dataset_id='colorized_ir_clouds', filename=colorized_clouds + '.tiff', writer='geotiff')"
   ],
   "metadata": {
    "collapsed": false,
    "pycharm": {
     "name": "#%%\n"
    }
   }
  },
  {
   "cell_type": "code",
   "execution_count": 9,
   "outputs": [
    {
     "name": "stderr",
     "output_type": "stream",
     "text": [
      "ERROR 1: PROJ: proj_create_from_name: /Users/streltcov/opt/anaconda3/envs/satpy_samples/share/proj/proj.db lacks DATABASE.LAYOUT.VERSION.MAJOR / DATABASE.LAYOUT.VERSION.MINOR metadata. It comes from another PROJ installation.\n"
     ]
    }
   ],
   "source": [
    "scene.save_dataset(dataset_id='ir108_3d', filename=ir108 + '.tiff', writer='geotiff')"
   ],
   "metadata": {
    "collapsed": false,
    "pycharm": {
     "name": "#%%\n"
    }
   }
  },
  {
   "cell_type": "code",
   "execution_count": 11,
   "outputs": [
    {
     "name": "stderr",
     "output_type": "stream",
     "text": [
      "ERROR 1: PROJ: proj_create_from_name: /Users/streltcov/opt/anaconda3/envs/satpy_samples/share/proj/proj.db lacks DATABASE.LAYOUT.VERSION.MAJOR / DATABASE.LAYOUT.VERSION.MINOR metadata. It comes from another PROJ installation.\n"
     ]
    }
   ],
   "source": [
    "scene.save_dataset(dataset_id='ir_cloud_day', filename=ir_clouds + '.tiff', writer='geotiff')"
   ],
   "metadata": {
    "collapsed": false,
    "pycharm": {
     "name": "#%%\n"
    }
   }
  }
 ],
 "metadata": {
  "kernelspec": {
   "display_name": "Python 3",
   "language": "python",
   "name": "python3"
  },
  "language_info": {
   "codemirror_mode": {
    "name": "ipython",
    "version": 2
   },
   "file_extension": ".py",
   "mimetype": "text/x-python",
   "name": "python",
   "nbconvert_exporter": "python",
   "pygments_lexer": "ipython2",
   "version": "2.7.6"
  }
 },
 "nbformat": 4,
 "nbformat_minor": 0
}