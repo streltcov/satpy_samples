{
 "cells": [
  {
   "cell_type": "code",
   "execution_count": 64,
   "id": "ff3c2103-a072-4c15-b44f-a59cb643cbc1",
   "metadata": {},
   "outputs": [],
   "source": [
    "import glob\n",
    "import os\n",
    "from pyresample import geometry\n",
    "from satpy.scene import Scene\n",
    "import warnings"
   ]
  },
  {
   "cell_type": "code",
   "execution_count": 65,
   "id": "7de3a584-66ea-4479-b320-9bdf098ae3d5",
   "metadata": {},
   "outputs": [],
   "source": [
    "warnings.filterwarnings('ignore')"
   ]
  },
  {
   "cell_type": "code",
   "execution_count": 66,
   "id": "264df315-b0f3-40a5-a389-9ac87cf4ae0e",
   "metadata": {},
   "outputs": [],
   "source": [
    "data_folder = os.path.join(os.getcwd(), '..', '..', 'sample_data', 'msg', 'meteosat8', 'scene_1', 'MSG1-20170201-1200')\n",
    "images_folder = os.path.join(os.getcwd(), '..', '..', 'images', 'msg', 'meteosat8', 'scene_1')\n",
    "\n",
    "ir_16 = os.path.join(images_folder, 'ir_16')\n",
    "wv_73 = os.path.join(images_folder, 'wv_73')\n",
    "\n",
    "filenames = glob.glob(data_folder + '/*')"
   ]
  },
  {
   "cell_type": "code",
   "execution_count": 67,
   "id": "36cd059f-35f5-4a8c-ae90-55bdd276448a",
   "metadata": {},
   "outputs": [],
   "source": [
    "# compiled xRITDecompress util from EUMETSAT must be available and environment variable XRIT_DECOMPRESS_PATH must be set;\n",
    "# PublicDecompWT software by EUMETSAT: https://gitlab.eumetsat.int/open-source/PublicDecompWT\n",
    "\n",
    "if not os.environ.get('XRIT_DECOMPRESS_PATH', None):\n",
    "    # set path to compiled xRITDecompress;\n",
    "    xrit_decompress = os.path.join(os.getcwd(), '..', '..', 'xRITDecompress')\n",
    "    assert os.path.exists(xrit_decompress)\n",
    "    os.environ['XRIT_DECOMPRESS_PATH'] = xrit_decompress"
   ]
  },
  {
   "cell_type": "code",
   "execution_count": 68,
   "id": "39c6c114-9622-4590-bc35-f45598c6cc5a",
   "metadata": {},
   "outputs": [],
   "source": [
    "scene = Scene(reader='seviri_l1b_hrit', filenames=filenames)"
   ]
  },
  {
   "cell_type": "code",
   "execution_count": 69,
   "id": "ac4351f6-2e42-466b-95f9-3b7690b4c221",
   "metadata": {},
   "outputs": [],
   "source": [
    "scene.load(['IR_016', 'WV_073'])"
   ]
  },
  {
   "cell_type": "code",
   "execution_count": 70,
   "id": "5410a91a-cac2-448b-9b1b-499204927d9d",
   "metadata": {},
   "outputs": [
    {
     "data": {
      "text/plain": [
       "Area ID: msg_seviri_iodc_3km\n",
       "Description: MSG SEVIRI Indian Ocean Data Coverage service area definition with 3 km resolution\n",
       "Projection: {'a': '6378169', 'h': '35785831', 'lon_0': '41.5', 'no_defs': 'None', 'proj': 'geos', 'rf': '295.488065897014', 'type': 'crs', 'units': 'm', 'x_0': '0', 'y_0': '0'}\n",
       "Number of columns: 3712\n",
       "Number of rows: 3712\n",
       "Area extent: (5568748.2834, 5568748.6867, -5568748.6867, -5568748.2834)"
      ]
     },
     "execution_count": 70,
     "metadata": {},
     "output_type": "execute_result"
    }
   ],
   "source": [
    "scene.finest_area()"
   ]
  },
  {
   "cell_type": "code",
   "execution_count": 71,
   "id": "353d1258-5d97-4309-91f8-e2f57464425e",
   "metadata": {},
   "outputs": [],
   "source": [
    "projection = {'proj': 'laea', 'lat_0': -90, 'lon_0': 0, 'a': 6371228.0, 'units': 'm'}"
   ]
  },
  {
   "cell_type": "code",
   "execution_count": 72,
   "id": "75e5bb30-6d63-430a-b163-da2dd68f13ce",
   "metadata": {},
   "outputs": [],
   "source": [
    "area = geometry.AreaDefinition('msg_full', 'Full globe MSG image 0 degrees', 'msg_full',\n",
    "                               {'a': '6378169.0', 'b': '6356584.0', 'h': '35785831.0', 'lon_0': '41.5', 'proj': 'geos'},\n",
    "                               3712, 3712, (-5568748.2834, -5568748.6867, 5568748.6867, 5568748.2834))"
   ]
  },
  {
   "cell_type": "code",
   "execution_count": 73,
   "id": "52b4867e-3fc0-40d5-a80c-01ff52a234c3",
   "metadata": {},
   "outputs": [],
   "source": [
    "resampled_scene = scene.resample(area)"
   ]
  },
  {
   "cell_type": "code",
   "execution_count": 74,
   "id": "64aa0b91-c930-4cff-aa39-52b833006b51",
   "metadata": {},
   "outputs": [
    {
     "name": "stderr",
     "output_type": "stream",
     "text": [
      "ERROR 1: PROJ: proj_create_from_name: /Users/streltcov/opt/anaconda3/envs/satpy_samples/share/proj/proj.db lacks DATABASE.LAYOUT.VERSION.MAJOR / DATABASE.LAYOUT.VERSION.MINOR metadata. It comes from another PROJ installation.\n"
     ]
    }
   ],
   "source": [
    "resampled_scene.save_dataset(dataset_id='IR_016', filename=ir_16 + '.tiff', writer='geotiff')\n",
    "resampled_scene.save_dataset(dataset_id='IR_016', filename=ir_16 + '.png')"
   ]
  },
  {
   "cell_type": "code",
   "execution_count": null,
   "id": "b876d099-c68c-4f65-9ebd-a77ad68f3f8c",
   "metadata": {},
   "outputs": [
    {
     "name": "stderr",
     "output_type": "stream",
     "text": [
      "ERROR 1: PROJ: proj_create_from_name: /Users/streltcov/opt/anaconda3/envs/satpy_samples/share/proj/proj.db lacks DATABASE.LAYOUT.VERSION.MAJOR / DATABASE.LAYOUT.VERSION.MINOR metadata. It comes from another PROJ installation.\n"
     ]
    }
   ],
   "source": [
    "resampled_scene.save_dataset(dataset_id='WV_073', filename=wv_73 + '.tiff', writer='geotiff')\n",
    "resampled_scene.save_dataset(dataset_id='WV_073', filename=wv_73 + '.png')"
   ]
  },
  {
   "cell_type": "code",
   "execution_count": null,
   "id": "728734c8-442a-479f-bd2b-a935684dbd6f",
   "metadata": {},
   "outputs": [],
   "source": []
  }
 ],
 "metadata": {
  "kernelspec": {
   "display_name": "Python 3 (ipykernel)",
   "language": "python",
   "name": "python3"
  },
  "language_info": {
   "codemirror_mode": {
    "name": "ipython",
    "version": 3
   },
   "file_extension": ".py",
   "mimetype": "text/x-python",
   "name": "python",
   "nbconvert_exporter": "python",
   "pygments_lexer": "ipython3",
   "version": "3.7.11"
  }
 },
 "nbformat": 4,
 "nbformat_minor": 5
}
