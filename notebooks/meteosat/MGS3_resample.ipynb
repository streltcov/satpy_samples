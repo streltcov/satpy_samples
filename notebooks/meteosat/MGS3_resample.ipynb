{
 "cells": [
  {
   "cell_type": "code",
   "execution_count": 1,
   "metadata": {
    "tags": []
   },
   "outputs": [],
   "source": [
    "import glob\n",
    "import os\n",
    "from pyresample import geometry\n",
    "from satpy.scene import Scene\n",
    "import warnings"
   ]
  },
  {
   "cell_type": "code",
   "execution_count": 2,
   "metadata": {
    "collapsed": false,
    "jupyter": {
     "outputs_hidden": false
    },
    "pycharm": {
     "name": "#%%\n"
    }
   },
   "outputs": [],
   "source": [
    "warnings.filterwarnings('ignore')"
   ]
  },
  {
   "cell_type": "code",
   "execution_count": 3,
   "metadata": {
    "collapsed": false,
    "jupyter": {
     "outputs_hidden": false
    },
    "pycharm": {
     "name": "#%%\n"
    }
   },
   "outputs": [],
   "source": [
    "data_folder = os.path.join(os.getcwd(), '..', '..', 'sample_data', 'msg', 'meteosat10', 'scene_1')\n",
    "resampled_images_folder = os.path.join(os.getcwd(), '..', '..', 'images', 'resampled', 'meteosat10', 'scene_1')\n",
    "filenames = glob.glob(data_folder + '/*')"
   ]
  },
  {
   "cell_type": "code",
   "execution_count": 4,
   "metadata": {
    "collapsed": false,
    "jupyter": {
     "outputs_hidden": false
    },
    "pycharm": {
     "name": "#%%\n"
    }
   },
   "outputs": [],
   "source": [
    "# compiled xRITDecompress util from EUMETSAT must be available and environment variable XRIT_DECOMPRESS_PATH must be set;\n",
    "# PublicDecompWT software by EUMETSAT: https://gitlab.eumetsat.int/open-source/PublicDecompWT\n",
    "\n",
    "if not os.environ.get('XRIT_DECOMPRESS_PATH', None):\n",
    "    # set path to compiled xRITDecompress;\n",
    "    xrit_decompress = os.path.join(os.getcwd(), '..', '..', 'xRITDecompress')\n",
    "    assert os.path.exists(xrit_decompress)\n",
    "    os.environ['XRIT_DECOMPRESS_PATH'] = xrit_decompress"
   ]
  },
  {
   "cell_type": "code",
   "execution_count": 5,
   "metadata": {
    "collapsed": false,
    "jupyter": {
     "outputs_hidden": false
    },
    "pycharm": {
     "name": "#%%\n"
    }
   },
   "outputs": [],
   "source": [
    "scene = Scene(reader='seviri_l1b_hrit', filenames=filenames)"
   ]
  },
  {
   "cell_type": "code",
   "execution_count": 7,
   "metadata": {},
   "outputs": [
    {
     "data": {
      "text/plain": [
       "['colorized_ir_clouds', 'ir108_3d', 'ir_cloud_day']"
      ]
     },
     "execution_count": 7,
     "metadata": {},
     "output_type": "execute_result"
    }
   ],
   "source": [
    "scene.available_composite_names()"
   ]
  },
  {
   "cell_type": "code",
   "execution_count": 8,
   "metadata": {
    "collapsed": false,
    "jupyter": {
     "outputs_hidden": false
    },
    "pycharm": {
     "name": "#%%\n"
    }
   },
   "outputs": [],
   "source": [
    "scene.load(['colorized_ir_clouds', 'ir108_3d'])"
   ]
  },
  {
   "cell_type": "code",
   "execution_count": 10,
   "metadata": {
    "collapsed": false,
    "jupyter": {
     "outputs_hidden": false
    },
    "pycharm": {
     "name": "#%%\n"
    }
   },
   "outputs": [
    {
     "name": "stderr",
     "output_type": "stream",
     "text": [
      "ERROR 1: PROJ: proj_create_from_name: /Users/streltcov/opt/anaconda3/envs/satpy_samples/share/proj/proj.db lacks DATABASE.LAYOUT.VERSION.MAJOR / DATABASE.LAYOUT.VERSION.MINOR metadata. It comes from another PROJ installation.\n"
     ]
    }
   ],
   "source": [
    "area = geometry.AreaDefinition('msg_full', 'Full globe MSG image 0 degrees', 'msg_full',\n",
    "                               {'a': '6378169.0', 'b': '6356584.0', 'h': '35785831.0', 'lon_0': '0', 'proj': 'merc'},\n",
    "                               3712, 3712, [-15568742.4, -15568742.4, 15568742.4, 15568742.4])\n",
    "\n",
    "resampled_scene = scene.resample(area)\n",
    "resampled_scene.save_dataset(dataset_id='colorized_ir_clouds', filename=resampled_images_folder + '/colorized_clouds.tiff', writer='geotiff')\n",
    "resampled_scene.save_dataset(dataset_id='ir108_3d', filename=resampled_images_folder + '/ir108.png')"
   ]
  },
  {
   "cell_type": "code",
   "execution_count": null,
   "metadata": {
    "collapsed": false,
    "jupyter": {
     "outputs_hidden": false
    },
    "pycharm": {
     "name": "#%%\n"
    }
   },
   "outputs": [],
   "source": []
  }
 ],
 "metadata": {
  "kernelspec": {
   "display_name": "Python 3 (ipykernel)",
   "language": "python",
   "name": "python3"
  },
  "language_info": {
   "codemirror_mode": {
    "name": "ipython",
    "version": 3
   },
   "file_extension": ".py",
   "mimetype": "text/x-python",
   "name": "python",
   "nbconvert_exporter": "python",
   "pygments_lexer": "ipython3",
   "version": "3.7.11"
  }
 },
 "nbformat": 4,
 "nbformat_minor": 4
}
